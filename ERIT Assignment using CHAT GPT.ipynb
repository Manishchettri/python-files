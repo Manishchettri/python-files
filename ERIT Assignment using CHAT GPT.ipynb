{
 "cells": [
  {
   "cell_type": "code",
   "execution_count": 2,
   "id": "2f6c5cc9",
   "metadata": {},
   "outputs": [],
   "source": [
    "from PIL import Image, ImageDraw\n",
    "\n",
    "# Create a new image with a white background\n",
    "image = Image.new(\"RGB\", (400, 400), \"white\")\n",
    "draw = ImageDraw.Draw(image)\n",
    "\n",
    "# Draw the outline of the dog's body\n",
    "body_color = (139, 69, 19)  # Brown color\n",
    "draw.rectangle((100, 200, 300, 350), fill=body_color, outline=\"black\")\n",
    "\n",
    "# Draw the dog's head\n",
    "head_color = (205, 133, 63)  # Light brown color\n",
    "draw.ellipse((150, 100, 250, 200), fill=head_color, outline=\"black\")\n",
    "\n",
    "# Draw the dog's ears\n",
    "ear_color = (205, 133, 63)  # Light brown color\n",
    "draw.polygon([(150, 100), (100, 150), (130, 190)], fill=ear_color, outline=\"black\")\n",
    "draw.polygon([(250, 100), (300, 150), (270, 190)], fill=ear_color, outline=\"black\")\n",
    "\n",
    "# Draw the dog's eyes\n",
    "eye_color = \"black\"\n",
    "draw.ellipse((175, 130, 195, 150), fill=eye_color, outline=\"black\")\n",
    "draw.ellipse((205, 130, 225, 150), fill=eye_color, outline=\"black\")\n",
    "\n",
    "# Draw the dog's nose\n",
    "nose_color = \"black\"\n",
    "draw.polygon([(190, 155), (200, 170), (210, 155)], fill=nose_color, outline=\"black\")\n",
    "\n",
    "# Draw the dog's mouth\n",
    "mouth_color = \"black\"\n",
    "draw.arc((175, 170, 225, 190), start=0, end=180, fill=mouth_color, width=2)\n",
    "\n",
    "# Save the image\n",
    "image.save(\"dog_image.png\")\n"
   ]
  },
  {
   "cell_type": "code",
   "execution_count": null,
   "id": "499c0c75",
   "metadata": {},
   "outputs": [],
   "source": []
  }
 ],
 "metadata": {
  "kernelspec": {
   "display_name": "Python 3 (ipykernel)",
   "language": "python",
   "name": "python3"
  },
  "language_info": {
   "codemirror_mode": {
    "name": "ipython",
    "version": 3
   },
   "file_extension": ".py",
   "mimetype": "text/x-python",
   "name": "python",
   "nbconvert_exporter": "python",
   "pygments_lexer": "ipython3",
   "version": "3.9.12"
  }
 },
 "nbformat": 4,
 "nbformat_minor": 5
}
