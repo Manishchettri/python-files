{
 "cells": [
  {
   "cell_type": "code",
   "execution_count": 5,
   "id": "ed687cb3",
   "metadata": {},
   "outputs": [
    {
     "name": "stdout",
     "output_type": "stream",
     "text": [
      "Enter The Year 1995\n"
     ]
    },
    {
     "data": {
      "text/plain": [
       "False"
      ]
     },
     "execution_count": 5,
     "metadata": {},
     "output_type": "execute_result"
    }
   ],
   "source": [
    "year=int(input(\"Enter The Year \"))\n",
    "def the_leap(year):\n",
    "    leap=False\n",
    "    if (year%4)==0 or (year%400)==0 and (year%100)!=0:\n",
    "        leap=True\n",
    "    return leap\n",
    "the_leap(year)"
   ]
  },
  {
   "cell_type": "code",
   "execution_count": 10,
   "id": "f91dfe2a",
   "metadata": {},
   "outputs": [
    {
     "name": "stdout",
     "output_type": "stream",
     "text": [
      "Enter The Year 1995\n",
      "1995 is not a leap Year\n"
     ]
    }
   ],
   "source": [
    "#Leap Year\n",
    "year=int(input(\"Enter The Year \"))\n",
    "def the_leap(year):\n",
    "    if (year%4)==0 or (year%400)==0 and (year%100)!=0:\n",
    "        print(\"{0} is a leap Year\".format(year))\n",
    "    else:\n",
    "        print(\"{0} is not a leap Year\".format(year))\n",
    "the_leap(year)"
   ]
  },
  {
   "cell_type": "code",
   "execution_count": 1,
   "id": "2baa37fa",
   "metadata": {},
   "outputs": [
    {
     "name": "stdout",
     "output_type": "stream",
     "text": [
      "Enter The  number 12\n",
      "5\n"
     ]
    },
    {
     "data": {
      "text/plain": [
       "[2, 3, 5, 7, 11]"
      ]
     },
     "execution_count": 1,
     "metadata": {},
     "output_type": "execute_result"
    }
   ],
   "source": [
    "#prime number\n",
    "def prime():\n",
    "    num=int(input(\"Enter The  number \"))\n",
    "    if num<2:\n",
    "        return 0\n",
    "    primes=[2]\n",
    "    x=3\n",
    "    while x<=num:\n",
    "        for y in range(3,x,2):\n",
    "            if x%y==0:\n",
    "                x+=2\n",
    "                break\n",
    "        else:\n",
    "            primes.append(x)\n",
    "            x+=2\n",
    "    print(len(primes))\n",
    "    return primes\n",
    "prime()"
   ]
  },
  {
   "cell_type": "code",
   "execution_count": 10,
   "id": "a46bf564",
   "metadata": {},
   "outputs": [
    {
     "name": "stdout",
     "output_type": "stream",
     "text": [
      "Enter The number 6\n",
      "The Factorial number of 6 is 720\n"
     ]
    }
   ],
   "source": [
    "#factorial of a number\n",
    "num=int(input(\"Enter The number \"))\n",
    "num1=1\n",
    "for y in range(1,num+1):\n",
    "    num1=num1*y\n",
    "print(\"The Factorial number of\",num,\"is\",num1)\n"
   ]
  },
  {
   "cell_type": "code",
   "execution_count": 16,
   "id": "82da8105",
   "metadata": {},
   "outputs": [
    {
     "name": "stdout",
     "output_type": "stream",
     "text": [
      "Enter The number 7\n",
      "The Factorial number of 7 is 28\n"
     ]
    }
   ],
   "source": [
    "#Fibonacci Number\n",
    "num=int(input(\"Enter The number \"))\n",
    "num1=0\n",
    "for y in range(0,num +1):\n",
    "    num1=num1+y\n",
    "print(\"The Factorial number of\",num,\"is\",num1)"
   ]
  },
  {
   "cell_type": "code",
   "execution_count": 23,
   "id": "e350f36d",
   "metadata": {},
   "outputs": [
    {
     "name": "stdout",
     "output_type": "stream",
     "text": [
      "Enter The Num6\n",
      "The given number 6 is armstrong number\n"
     ]
    }
   ],
   "source": [
    "#Armstrong Number\n",
    "n = int(input(\"Enter The Num\"))  # or n=int(input()) -> taking input from user\n",
    "s = n  # assigning input value to the s variable\n",
    "b = len(str(n))\n",
    "sum1 = 0\n",
    "while n != 0:\n",
    "    r = n % 10\n",
    "    sum1 = sum1+(r**b)\n",
    "    n = n//10\n",
    "if s == sum1:\n",
    "    print(\"The given number\", s, \"is armstrong number\")\n",
    "else:\n",
    "    print(\"The given number\", s, \"is not armstrong number\")"
   ]
  },
  {
   "cell_type": "code",
   "execution_count": 20,
   "id": "8aa3188d",
   "metadata": {},
   "outputs": [
    {
     "data": {
      "text/plain": [
       "1"
      ]
     },
     "execution_count": 20,
     "metadata": {},
     "output_type": "execute_result"
    }
   ],
   "source": []
  },
  {
   "cell_type": "code",
   "execution_count": null,
   "id": "58d88156",
   "metadata": {},
   "outputs": [],
   "source": []
  }
 ],
 "metadata": {
  "kernelspec": {
   "display_name": "Python 3 (ipykernel)",
   "language": "python",
   "name": "python3"
  },
  "language_info": {
   "codemirror_mode": {
    "name": "ipython",
    "version": 3
   },
   "file_extension": ".py",
   "mimetype": "text/x-python",
   "name": "python",
   "nbconvert_exporter": "python",
   "pygments_lexer": "ipython3",
   "version": "3.9.12"
  }
 },
 "nbformat": 4,
 "nbformat_minor": 5
}
