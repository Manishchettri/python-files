{
 "cells": [
  {
   "cell_type": "code",
   "execution_count": 6,
   "id": "fea72c72",
   "metadata": {},
   "outputs": [
    {
     "name": "stdout",
     "output_type": "stream",
     "text": [
      "Enter The Number: 3\n",
      "The Decimal value of 3 is: \n",
      "0b11 in Binary\n",
      "0o3 in Octal.\n",
      "0x3 in Hexadecimal\n"
     ]
    }
   ],
   "source": [
    "dec=int(input(\"Enter The Number: \"))\n",
    "print(\"The Decimal value of\",dec,'is: ')\n",
    "print(bin (dec),\"in Binary\")\n",
    "print(oct (dec),\"in Octal.\")\n",
    "print(hex (dec),\"in Hexadecimal\")"
   ]
  },
  {
   "cell_type": "code",
   "execution_count": 14,
   "id": "8fd9addd",
   "metadata": {},
   "outputs": [
    {
     "name": "stdout",
     "output_type": "stream",
     "text": [
      "the sorted words are: \n",
      "apple\n",
      "ball\n",
      "car\n",
      "dog\n"
     ]
    }
   ],
   "source": [
    "my_str=(\"CAR BALL DOG APPLE\")\n",
    "words=[word.lower() for word in my_str.split()]\n",
    "words.sort()\n",
    "print(\"the sorted words are: \")\n",
    "for word in words:\n",
    "    print(word)"
   ]
  },
  {
   "cell_type": "code",
   "execution_count": 30,
   "id": "1e785043",
   "metadata": {},
   "outputs": [
    {
     "name": "stdout",
     "output_type": "stream",
     "text": [
      "the additiopn of two matrices:\n",
      "[10, 7]\n",
      "[22, 15]\n"
     ]
    }
   ],
   "source": [
    "x=[[1,2],\n",
    "   [3,4]]\n",
    "y=[[2,1],\n",
    "  [4,3]]\n",
    "mul=[[0,0],\n",
    "    [0,0]]\n",
    "for i in range(len(x)):\n",
    "    for j in range(len(mul)):\n",
    "        for k in range(len(y)):\n",
    "            mul[i][j] += x[i][k]*y[k][j]\n",
    "print(\"the additiopn of two matrices:\")\n",
    "for r in mul:\n",
    "    print(r)"
   ]
  },
  {
   "cell_type": "code",
   "execution_count": 25,
   "id": "c0b00b1b",
   "metadata": {},
   "outputs": [],
   "source": [
    "lol=('mk')\n"
   ]
  },
  {
   "cell_type": "code",
   "execution_count": 23,
   "id": "043e1e59",
   "metadata": {},
   "outputs": [
    {
     "data": {
      "text/plain": [
       "2"
      ]
     },
     "execution_count": 23,
     "metadata": {},
     "output_type": "execute_result"
    }
   ],
   "source": [
    "len()"
   ]
  },
  {
   "cell_type": "code",
   "execution_count": null,
   "id": "ffc5375e",
   "metadata": {},
   "outputs": [],
   "source": []
  }
 ],
 "metadata": {
  "kernelspec": {
   "display_name": "Python 3 (ipykernel)",
   "language": "python",
   "name": "python3"
  },
  "language_info": {
   "codemirror_mode": {
    "name": "ipython",
    "version": 3
   },
   "file_extension": ".py",
   "mimetype": "text/x-python",
   "name": "python",
   "nbconvert_exporter": "python",
   "pygments_lexer": "ipython3",
   "version": "3.9.12"
  }
 },
 "nbformat": 4,
 "nbformat_minor": 5
}
