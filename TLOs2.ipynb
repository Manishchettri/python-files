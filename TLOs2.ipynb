{
 "cells": [
  {
   "cell_type": "code",
   "execution_count": 3,
   "id": "cb3a487a",
   "metadata": {},
   "outputs": [
    {
     "name": "stdout",
     "output_type": "stream",
     "text": [
      "30 35.0 2.857142857142857\n"
     ]
    }
   ],
   "source": [
    "a = 10\n",
    "b = 3.5\n",
    "c = \"20\"\n",
    "result1 = a +int(c)\n",
    "result2 = a * b\n",
    "result3 = a / b\n",
    "print(result1, result2, result3)"
   ]
  },
  {
   "cell_type": "code",
   "execution_count": 2,
   "id": "753b81ca",
   "metadata": {},
   "outputs": [
    {
     "name": "stdout",
     "output_type": "stream",
     "text": [
      "is\n"
     ]
    }
   ],
   "source": [
    "s = \"Programming is fun!\"\n",
    "extracted_word = s[12:14]\n",
    "print(extracted_word)"
   ]
  },
  {
   "cell_type": "code",
   "execution_count": 5,
   "id": "6f713bc9",
   "metadata": {},
   "outputs": [
    {
     "name": "stdout",
     "output_type": "stream",
     "text": [
      "Enter the length 6\n",
      "enter the width 5\n",
      "30\n"
     ]
    }
   ],
   "source": [
    "l = int(input(\"Enter the length \"))\n",
    "w = int(input(\"enter the width \"))\n",
    "area = l * w\n",
    "print (area)\n"
   ]
  },
  {
   "cell_type": "code",
   "execution_count": null,
   "id": "0141faf0",
   "metadata": {},
   "outputs": [],
   "source": [
    "x =int(input(\"Enter the any number \"))\n",
    "y =int(input(\"Enter the any number\"))\n",
    "sum_result = x + y\n",
    "diff_result = x - y\n",
    "prod_result = x * y\n",
    "quot_result = x / y\n",
    "reminder=x % y\n",
    "print(\"Sum:\", sum_result)\n",
    "print(\"Difference:\", diff_result)\n",
    "print(\"Product:\", prod_result)\n",
    "print(\"Quotient:\", quot_result)\n",
    "print(\"reminder:\", reminder)"
   ]
  },
  {
   "cell_type": "markdown",
   "id": "2170d511",
   "metadata": {},
   "source": [
    "a =int(input(\"Enter the number\"))\n",
    "b = int(input(\"Enter the number\"))\n",
    "remainder = a % b\n",
    "print(\"The remainder of the division is:\", remainder)"
   ]
  },
  {
   "cell_type": "code",
   "execution_count": 1,
   "id": "923233ac",
   "metadata": {},
   "outputs": [
    {
     "name": "stdout",
     "output_type": "stream",
     "text": [
      "Enter the first number: 0.3\n",
      "Enter the second number: 67\n",
      "Sum: 67.3\n",
      "Difference: -66.7\n",
      "Product: 20.099999999999998\n",
      "Quotient: 0.004477611940298508\n"
     ]
    }
   ],
   "source": [
    "x = float(input(\"Enter the first number: \"))\n",
    "y = float(input(\"Enter the second number: \"))\n",
    "sum_result = x + y\n",
    "diff_result = x - y\n",
    "prod_result = x * y\n",
    "quot_result = x / y\n",
    "print(\"Sum:\", sum_result)\n",
    "print(\"Difference:\", diff_result)\n",
    "print(\"Product:\", prod_result)\n",
    "print(\"Quotient:\", quot_result)"
   ]
  },
  {
   "cell_type": "code",
   "execution_count": 10,
   "id": "083e5b08",
   "metadata": {},
   "outputs": [
    {
     "name": "stdout",
     "output_type": "stream",
     "text": [
      "Enter the length of the rectangle: 45\n",
      "Enter the width of the rectangle: 46\n",
      "The area of the rectangle is: 2070.0\n"
     ]
    }
   ],
   "source": [
    "l = float(input(\"Enter the length of the rectangle: \"))\n",
    "w = float(input(\"Enter the width of the rectangle: \"))\n",
    "area = l * w\n",
    "print(\"The area of the rectangle is:\", area)"
   ]
  },
  {
   "cell_type": "code",
   "execution_count": null,
   "id": "d1d93ae4",
   "metadata": {},
   "outputs": [],
   "source": []
  },
  {
   "cell_type": "code",
   "execution_count": 11,
   "id": "fc27fdad",
   "metadata": {},
   "outputs": [
    {
     "name": "stdout",
     "output_type": "stream",
     "text": [
      "Length of the concatenated string: 17\n"
     ]
    }
   ],
   "source": [
    "string1 = \"Python\"\n",
    "string2 = \"Programming\"\n",
    "concatenated_string = string1 + string2\n",
    "length = len(concatenated_string)\n",
    "print(\"Length of the concatenated string:\", length)"
   ]
  },
  {
   "cell_type": "code",
   "execution_count": 12,
   "id": "e4bf57e3",
   "metadata": {},
   "outputs": [
    {
     "name": "stdout",
     "output_type": "stream",
     "text": [
      "Index of character 'p': 31\n"
     ]
    }
   ],
   "source": [
    "input_string = \"Python is an easy-to-learn and powerful programming language\"\n",
    "character_to_find = \"p\"\n",
    "index = input_string.find(character_to_find)\n",
    "print(f\"Index of character '{character_to_find}': {index}\")"
   ]
  },
  {
   "cell_type": "code",
   "execution_count": 13,
   "id": "d5f81c18",
   "metadata": {},
   "outputs": [
    {
     "name": "stdout",
     "output_type": "stream",
     "text": [
      "Value associated with key 'B': 2\n"
     ]
    }
   ],
   "source": [
    "my_dict = {\"A\": 1, \"B\": 2, \"C\": 3}\n",
    "value = my_dict.get(\"B\")\n",
    "print(\"Value associated with key 'B':\", value)"
   ]
  },
  {
   "cell_type": "code",
   "execution_count": 14,
   "id": "19a0460d",
   "metadata": {},
   "outputs": [
    {
     "name": "stdout",
     "output_type": "stream",
     "text": [
      "Length of the tuple: 5\n"
     ]
    }
   ],
   "source": [
    "my_tuple = (1, 4, 9, 16, 25)\n",
    "length = len(my_tuple)\n",
    "print(\"Length of the tuple:\", length)"
   ]
  },
  {
   "cell_type": "code",
   "execution_count": 15,
   "id": "bd991835",
   "metadata": {},
   "outputs": [
    {
     "name": "stdout",
     "output_type": "stream",
     "text": [
      "Length of the set: 5\n"
     ]
    }
   ],
   "source": [
    "my_set = {1, 2, 3, 4, 5, 2, 3, 4}\n",
    "length = len(my_set)\n",
    "print(\"Length of the set:\", length)"
   ]
  },
  {
   "cell_type": "code",
   "execution_count": 18,
   "id": "35190258",
   "metadata": {},
   "outputs": [
    {
     "name": "stdout",
     "output_type": "stream",
     "text": [
      "Is 'madam' a palindrome? True\n"
     ]
    }
   ],
   "source": [
    "input_string = \"madam\"\n",
    "is_palindrome = input_string.lower() == input_string.lower()[::-1]\n",
    "print(f\"Is '{input_string}' a palindrome? {is_palindrome}\")"
   ]
  },
  {
   "cell_type": "code",
   "execution_count": 19,
   "id": "eb8f85ac",
   "metadata": {},
   "outputs": [
    {
     "name": "stdout",
     "output_type": "stream",
     "text": [
      "Maximum value: 9\n",
      "Minimum value: 1\n"
     ]
    }
   ],
   "source": [
    "my_list = [4, 6, 2, 9, 1, 3]\n",
    "max_value = max(my_list)\n",
    "min_value = min(my_list)\n",
    "print(\"Maximum value:\", max_value)\n",
    "print(\"Minimum value:\", min_value)"
   ]
  },
  {
   "cell_type": "code",
   "execution_count": 20,
   "id": "7f2d193a",
   "metadata": {},
   "outputs": [
    {
     "name": "stdout",
     "output_type": "stream",
     "text": [
      "Merged dictionary: {'A': 1, 'B': 2, 'C': 3, 'D': 4, 'E': 5, 'F': 6}\n"
     ]
    }
   ],
   "source": [
    "dict1 = {\"A\": 1, \"B\": 2, \"C\": 3}\n",
    "dict2 = {\"D\": 4, \"E\": 5, \"F\": 6}\n",
    "merged_dict = {**dict1, **dict2}\n",
    "print(\"Merged dictionary:\", merged_dict)"
   ]
  },
  {
   "cell_type": "code",
   "execution_count": 67,
   "id": "28d9c52b",
   "metadata": {},
   "outputs": [
    {
     "name": "stdout",
     "output_type": "stream",
     "text": [
      "* \n",
      "* * \n",
      "* * * \n",
      "* * * * \n",
      "* * * * * \n",
      "* * * * * * \n",
      "* * * * * * * \n",
      "* * * * * * * * \n"
     ]
    }
   ],
   "source": [
    "def num(n):\n",
    "    for i in range(0,n):\n",
    "        for m in range(0,i+1):\n",
    "            print(\"*\",end=\" \")\n",
    "        print()\n",
    "num(8)"
   ]
  },
  {
   "cell_type": "code",
   "execution_count": 27,
   "id": "0c12fda7",
   "metadata": {},
   "outputs": [
    {
     "name": "stdout",
     "output_type": "stream",
     "text": [
      "Enter any number 8\n",
      "1 \n",
      "2 2 \n",
      "3 3 3 \n",
      "4 4 4 4 \n",
      "5 5 5 5 5 \n",
      "6 6 6 6 6 6 \n",
      "7 7 7 7 7 7 7 \n",
      "8 8 8 8 8 8 8 8 \n"
     ]
    }
   ],
   "source": [
    "def num(n):\n",
    "    n=int(input(\"Enter any number \"))\n",
    "    for i in range(1,n+1):\n",
    "        for m in range(1,i+1):\n",
    "            print(i,end=\" \")\n",
    "        print()\n",
    "num(8)"
   ]
  },
  {
   "cell_type": "code",
   "execution_count": 13,
   "id": "02a26b7b",
   "metadata": {},
   "outputs": [
    {
     "ename": "TypeError",
     "evalue": "num() missing 1 required positional argument: 'n'",
     "output_type": "error",
     "traceback": [
      "\u001b[1;31m---------------------------------------------------------------------------\u001b[0m",
      "\u001b[1;31mTypeError\u001b[0m                                 Traceback (most recent call last)",
      "Input \u001b[1;32mIn [13]\u001b[0m, in \u001b[0;36m<cell line: 1>\u001b[1;34m()\u001b[0m\n\u001b[1;32m----> 1\u001b[0m \u001b[43mnum\u001b[49m\u001b[43m(\u001b[49m\u001b[43m)\u001b[49m\n",
      "\u001b[1;31mTypeError\u001b[0m: num() missing 1 required positional argument: 'n'"
     ]
    }
   ],
   "source": []
  },
  {
   "cell_type": "code",
   "execution_count": null,
   "id": "6754c787",
   "metadata": {},
   "outputs": [],
   "source": []
  }
 ],
 "metadata": {
  "kernelspec": {
   "display_name": "Python 3 (ipykernel)",
   "language": "python",
   "name": "python3"
  },
  "language_info": {
   "codemirror_mode": {
    "name": "ipython",
    "version": 3
   },
   "file_extension": ".py",
   "mimetype": "text/x-python",
   "name": "python",
   "nbconvert_exporter": "python",
   "pygments_lexer": "ipython3",
   "version": "3.9.12"
  }
 },
 "nbformat": 4,
 "nbformat_minor": 5
}
