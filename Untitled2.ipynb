{
 "cells": [
  {
   "cell_type": "code",
   "execution_count": 1,
   "id": "3468c459",
   "metadata": {},
   "outputs": [
    {
     "name": "stdout",
     "output_type": "stream",
     "text": [
      "Hello,world\n"
     ]
    }
   ],
   "source": [
    "print(\"Hello,world\")"
   ]
  },
  {
   "cell_type": "code",
   "execution_count": 2,
   "id": "f1421cc7",
   "metadata": {},
   "outputs": [
    {
     "name": "stdout",
     "output_type": "stream",
     "text": [
      "enter the any number5\n",
      "Enter the number4\n",
      "54\n"
     ]
    }
   ],
   "source": [
    "num=(input(\"Enter the any number\"))\n",
    "num1=(input(\"Enter the number\"))\n",
    "concatenation=num+num1\n",
    "print (concatenation)"
   ]
  },
  {
   "cell_type": "code",
   "execution_count": 1,
   "id": "2e7f500f",
   "metadata": {},
   "outputs": [
    {
     "name": "stdout",
     "output_type": "stream",
     "text": [
      "Enter the any number5\n",
      "Enter the number4\n",
      "9\n"
     ]
    }
   ],
   "source": [
    "num=int((input(\"Enter the any number\")))\n",
    "num1=int((input(\"Enter the number\")))\n",
    "sum=num+num1\n",
    "print (sum)"
   ]
  },
  {
   "cell_type": "code",
   "execution_count": 1,
   "id": "f3615c49",
   "metadata": {},
   "outputs": [
    {
     "name": "stdout",
     "output_type": "stream",
     "text": [
      "Enter the any number45\n",
      "Enter the number4\n",
      "sum 49\n",
      "dif 41\n",
      "product 180\n",
      "quotient 11.25\n"
     ]
    }
   ],
   "source": [
    "num=int((input(\"Enter the any number\")))\n",
    "num1=int((input(\"Enter the number\")))\n",
    "sum=num+num1\n",
    "dif=num-num1\n",
    "product=num*num1\n",
    "quo=num/num1\n",
    "print (\"sum\", sum)\n",
    "print(\"dif\", dif)\n",
    "print(\"product\", product)\n",
    "print(\"quotient\", quo)"
   ]
  },
  {
   "cell_type": "code",
   "execution_count": 2,
   "id": "953d3a43",
   "metadata": {},
   "outputs": [],
   "source": [
    "name=[\"manish\",\"ujjal\",\"pramil\",\"zulien\"]"
   ]
  },
  {
   "cell_type": "code",
   "execution_count": 3,
   "id": "4f64d4fd",
   "metadata": {},
   "outputs": [
    {
     "name": "stdout",
     "output_type": "stream",
     "text": [
      "['manish', 'ujjal', 'pramil', 'zulien']\n"
     ]
    }
   ],
   "source": [
    "print(name)"
   ]
  },
  {
   "cell_type": "code",
   "execution_count": 7,
   "id": "459b03fe",
   "metadata": {},
   "outputs": [],
   "source": [
    "name.append(\"ghanu\")"
   ]
  },
  {
   "cell_type": "code",
   "execution_count": 8,
   "id": "2c3d575b",
   "metadata": {},
   "outputs": [
    {
     "name": "stdout",
     "output_type": "stream",
     "text": [
      "['manish', 'ujjal', 'pramil', 'zulien', 'zdf', 'ghanu']\n"
     ]
    }
   ],
   "source": [
    "print(name)"
   ]
  },
  {
   "cell_type": "code",
   "execution_count": 9,
   "id": "7cad354d",
   "metadata": {},
   "outputs": [
    {
     "name": "stdout",
     "output_type": "stream",
     "text": [
      "None\n"
     ]
    }
   ],
   "source": [
    "print(name.append(\"mkdada\"))"
   ]
  },
  {
   "cell_type": "code",
   "execution_count": 10,
   "id": "5f433f60",
   "metadata": {},
   "outputs": [
    {
     "name": "stdout",
     "output_type": "stream",
     "text": [
      "['manish', 'ujjal', 'pramil', 'zulien', 'zdf', 'ghanu', 'mkdada']\n"
     ]
    }
   ],
   "source": [
    "print(name)"
   ]
  },
  {
   "cell_type": "code",
   "execution_count": null,
   "id": "a04d2e42",
   "metadata": {},
   "outputs": [],
   "source": []
  }
 ],
 "metadata": {
  "kernelspec": {
   "display_name": "Python 3 (ipykernel)",
   "language": "python",
   "name": "python3"
  },
  "language_info": {
   "codemirror_mode": {
    "name": "ipython",
    "version": 3
   },
   "file_extension": ".py",
   "mimetype": "text/x-python",
   "name": "python",
   "nbconvert_exporter": "python",
   "pygments_lexer": "ipython3",
   "version": "3.9.12"
  }
 },
 "nbformat": 4,
 "nbformat_minor": 5
}
